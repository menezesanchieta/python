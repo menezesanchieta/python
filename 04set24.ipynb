{
  "nbformat": 4,
  "nbformat_minor": 0,
  "metadata": {
    "colab": {
      "provenance": [],
      "authorship_tag": "ABX9TyMlLM36lQPrTs4FdDcGmLQQ",
      "include_colab_link": true
    },
    "kernelspec": {
      "name": "python3",
      "display_name": "Python 3"
    },
    "language_info": {
      "name": "python"
    }
  },
  "cells": [
    {
      "cell_type": "markdown",
      "metadata": {
        "id": "view-in-github",
        "colab_type": "text"
      },
      "source": [
        "<a href=\"https://colab.research.google.com/github/menezesanchieta/python/blob/main/04set24.ipynb\" target=\"_parent\"><img src=\"https://colab.research.google.com/assets/colab-badge.svg\" alt=\"Open In Colab\"/></a>"
      ]
    },
    {
      "cell_type": "markdown",
      "source": [
        "# Exercicio conversão para **MM**"
      ],
      "metadata": {
        "id": "EVnQihz1Ltmo"
      }
    },
    {
      "cell_type": "code",
      "execution_count": null,
      "metadata": {
        "id": "GEwtL2S2IyGQ"
      },
      "outputs": [],
      "source": [
        "# calculo para converter para MM um valor fornecido em polegas\n",
        "P = float(input(\"Digite a pol: \"))\n",
        "\n",
        "mm = P * 25.4\n",
        "\n",
        "print(\"o valor em MM é\", mm)"
      ]
    },
    {
      "cell_type": "markdown",
      "source": [
        "5) Criar uma narrativa, pseudocodigo, fluxograma e codigo para um programa que receba o raio (r) de uma esfera, e em seguida calcule e exiba o volume (v) desta esfera. formula de calculo de volume (V = (4/3) * pi * r ** 3)"
      ],
      "metadata": {
        "id": "phqnQDzmPSE7"
      }
    },
    {
      "cell_type": "code",
      "source": [
        "from math import pi\n",
        "print(\"este programa irá calcular o valor de uma esfera!\")\n",
        "print(\" \")\n",
        "r = float( input(\"Digite o valor do raio: \"))\n",
        "\n",
        "V = (4/3 * pi * r ** 3)\n",
        "\n",
        "print(\" \")\n",
        "print(\"O valor do volume é\", V)"
      ],
      "metadata": {
        "id": "vgNlj5gdL9Nj"
      },
      "execution_count": null,
      "outputs": []
    },
    {
      "cell_type": "markdown",
      "source": [
        "6) Criar uma narrativa, pseudocodigo, fluxograma e codigo para um programa que receba um angulo (g) em graus, e converta este valor para radianos"
      ],
      "metadata": {
        "id": "KoBAgx00UofO"
      }
    },
    {
      "cell_type": "code",
      "source": [
        "from math import pi\n",
        "\n",
        "graus = float(input(\"Digite o angulo em graus: \"))\n",
        "radianos = graus * (pi/180)\n",
        "print(\" \")\n",
        "print(f\"O angulo de {graus}° é igual a {radianos}\")"
      ],
      "metadata": {
        "id": "TxOtRO-JVK57"
      },
      "execution_count": null,
      "outputs": []
    },
    {
      "cell_type": "markdown",
      "source": [
        "7) Criar uma narrativa, pseudocodigo, fluxograma e codigo para um programa que receba o valor de um angulo em radiano, e converta para graus"
      ],
      "metadata": {
        "id": "TnuG3i6vaIJS"
      }
    },
    {
      "cell_type": "code",
      "source": [
        "from math import pi\n",
        "\n",
        "radianos = float(input(\"Digite o angulo em radiano: \"))\n",
        "graus = radianos * (180/pi)\n",
        "print(\" \")\n",
        "print(f\"O angulo de {radianos}° é igual a {graus}°\")"
      ],
      "metadata": {
        "colab": {
          "base_uri": "https://localhost:8080/",
          "height": 228
        },
        "id": "opDC1QDLaS_M",
        "outputId": "d6bd04b2-477f-443f-cca1-532fbbe4929d"
      },
      "execution_count": 25,
      "outputs": [
        {
          "name": "stdout",
          "output_type": "stream",
          "text": [
            "Digite o angulo em radiano: 3,14159\n"
          ]
        },
        {
          "output_type": "error",
          "ename": "ValueError",
          "evalue": "could not convert string to float: '3,14159'",
          "traceback": [
            "\u001b[0;31m---------------------------------------------------------------------------\u001b[0m",
            "\u001b[0;31mValueError\u001b[0m                                Traceback (most recent call last)",
            "\u001b[0;32m<ipython-input-25-fa8074fdc4ad>\u001b[0m in \u001b[0;36m<cell line: 3>\u001b[0;34m()\u001b[0m\n\u001b[1;32m      1\u001b[0m \u001b[0;32mfrom\u001b[0m \u001b[0mmath\u001b[0m \u001b[0;32mimport\u001b[0m \u001b[0mpi\u001b[0m\u001b[0;34m\u001b[0m\u001b[0;34m\u001b[0m\u001b[0m\n\u001b[1;32m      2\u001b[0m \u001b[0;34m\u001b[0m\u001b[0m\n\u001b[0;32m----> 3\u001b[0;31m \u001b[0mradianos\u001b[0m \u001b[0;34m=\u001b[0m \u001b[0mfloat\u001b[0m\u001b[0;34m(\u001b[0m\u001b[0minput\u001b[0m\u001b[0;34m(\u001b[0m\u001b[0;34m\"Digite o angulo em radiano: \"\u001b[0m\u001b[0;34m)\u001b[0m\u001b[0;34m)\u001b[0m\u001b[0;34m\u001b[0m\u001b[0;34m\u001b[0m\u001b[0m\n\u001b[0m\u001b[1;32m      4\u001b[0m \u001b[0mgraus\u001b[0m \u001b[0;34m=\u001b[0m \u001b[0mradianos\u001b[0m \u001b[0;34m*\u001b[0m \u001b[0;34m(\u001b[0m\u001b[0;36m180\u001b[0m\u001b[0;34m/\u001b[0m\u001b[0mpi\u001b[0m\u001b[0;34m)\u001b[0m\u001b[0;34m\u001b[0m\u001b[0;34m\u001b[0m\u001b[0m\n\u001b[1;32m      5\u001b[0m \u001b[0mprint\u001b[0m\u001b[0;34m(\u001b[0m\u001b[0;34m\" \"\u001b[0m\u001b[0;34m)\u001b[0m\u001b[0;34m\u001b[0m\u001b[0;34m\u001b[0m\u001b[0m\n",
            "\u001b[0;31mValueError\u001b[0m: could not convert string to float: '3,14159'"
          ]
        }
      ]
    }
  ]
}