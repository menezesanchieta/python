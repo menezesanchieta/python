{
  "nbformat": 4,
  "nbformat_minor": 0,
  "metadata": {
    "colab": {
      "provenance": [],
      "authorship_tag": "ABX9TyM3Fxtd99VhNUh9tSVNylrm",
      "include_colab_link": true
    },
    "kernelspec": {
      "name": "python3",
      "display_name": "Python 3"
    },
    "language_info": {
      "name": "python"
    }
  },
  "cells": [
    {
      "cell_type": "markdown",
      "metadata": {
        "id": "view-in-github",
        "colab_type": "text"
      },
      "source": [
        "<a href=\"https://colab.research.google.com/github/menezesanchieta/python/blob/main/04set24.ipynb\" target=\"_parent\"><img src=\"https://colab.research.google.com/assets/colab-badge.svg\" alt=\"Open In Colab\"/></a>"
      ]
    },
    {
      "cell_type": "markdown",
      "source": [
        "# Exercicio conversão para **MM**"
      ],
      "metadata": {
        "id": "EVnQihz1Ltmo"
      }
    },
    {
      "cell_type": "code",
      "execution_count": 10,
      "metadata": {
        "colab": {
          "base_uri": "https://localhost:8080/"
        },
        "id": "GEwtL2S2IyGQ",
        "outputId": "22dd2381-ad20-4e0e-f95d-54877295c3c7"
      },
      "outputs": [
        {
          "output_type": "stream",
          "name": "stdout",
          "text": [
            "Digite a pol: 10\n",
            "o valor em MM é 254.0\n"
          ]
        }
      ],
      "source": [
        "# calculo para converter para MM um valor fornecido em polegas\n",
        "P = float(input(\"Digite a pol: \"))\n",
        "\n",
        "mm = P * 25.4\n",
        "\n",
        "print(\"o valor em MM é\", mm)"
      ]
    },
    {
      "cell_type": "markdown",
      "source": [
        "5) Criar uma narrativa, pseudocodigo, fluxograma e codigo para um programa que receba o raio (r) de uma esfera, e em seguida calcule e exiba o volume (v) desta esfera. formula de calculo de volume (V = (4/3) * pi * r ** 3)"
      ],
      "metadata": {
        "id": "phqnQDzmPSE7"
      }
    },
    {
      "cell_type": "code",
      "source": [
        "from math import pi\n",
        "print(\"este programa irá calcular o valor de uma esfera!\")\n",
        "print(\" \")\n",
        "r = float( input(\"Digite o valor do raio: \"))\n",
        "\n",
        "V = (4/3 * pi * r ** 3)\n",
        "\n",
        "print(\" \")\n",
        "print(\"O valor do volume é\", V)"
      ],
      "metadata": {
        "colab": {
          "base_uri": "https://localhost:8080/"
        },
        "id": "vgNlj5gdL9Nj",
        "outputId": "83b292ed-6959-40ae-8b66-88625e0a555a"
      },
      "execution_count": 17,
      "outputs": [
        {
          "output_type": "stream",
          "name": "stdout",
          "text": [
            "este programa irá calcular o valor de uma esfera!\n",
            " \n",
            "Digite o valor do raio: 1\n",
            " \n",
            "O valor do volume é 4.1887902047863905\n"
          ]
        }
      ]
    }
  ]
}