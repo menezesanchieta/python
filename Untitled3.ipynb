{
  "nbformat": 4,
  "nbformat_minor": 0,
  "metadata": {
    "colab": {
      "provenance": [],
      "authorship_tag": "ABX9TyOOvVABi4b5lA4hSpPOVCW9",
      "include_colab_link": true
    },
    "kernelspec": {
      "name": "python3",
      "display_name": "Python 3"
    },
    "language_info": {
      "name": "python"
    }
  },
  "cells": [
    {
      "cell_type": "markdown",
      "metadata": {
        "id": "view-in-github",
        "colab_type": "text"
      },
      "source": [
        "<a href=\"https://colab.research.google.com/github/menezesanchieta/python/blob/main/Untitled3.ipynb\" target=\"_parent\"><img src=\"https://colab.research.google.com/assets/colab-badge.svg\" alt=\"Open In Colab\"/></a>"
      ]
    },
    {
      "cell_type": "markdown",
      "source": [
        "#contar de 0 até 9"
      ],
      "metadata": {
        "id": "yi7_jBZqW6pD"
      }
    },
    {
      "cell_type": "code",
      "source": [
        "for i in range(0, 10, 1):\n",
        "    print(i)"
      ],
      "metadata": {
        "id": "dGGm1R9uYfag"
      },
      "execution_count": null,
      "outputs": []
    },
    {
      "cell_type": "markdown",
      "source": [
        "#contar de 0 até 9"
      ],
      "metadata": {
        "id": "0Nf5iXJ8Yuxw"
      }
    },
    {
      "cell_type": "code",
      "source": [
        "for i in range(10):\n",
        "    print(i)"
      ],
      "metadata": {
        "id": "_l8EO9N2Y3Ch"
      },
      "execution_count": null,
      "outputs": []
    },
    {
      "cell_type": "markdown",
      "source": [
        "#contar de 0 até 9"
      ],
      "metadata": {
        "id": "YOReCLhyY97A"
      }
    },
    {
      "cell_type": "code",
      "source": [
        "i = 0\n",
        "while i < 12:\n",
        "  print(i)\n",
        "  i = i + 0.5"
      ],
      "metadata": {
        "id": "MDykqdMWZAzo"
      },
      "execution_count": null,
      "outputs": []
    }
  ]
}